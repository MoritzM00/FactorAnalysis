{
 "cells": [
  {
   "cell_type": "code",
   "execution_count": 1,
   "metadata": {
    "collapsed": true
   },
   "outputs": [],
   "source": [
    "import pandas as pd\n",
    "import numpy as np\n",
    "\n",
    "from factor_analysis import FactorAnalysis"
   ]
  },
  {
   "cell_type": "code",
   "execution_count": null,
   "outputs": [],
   "source": [
    "from sklearn import set_config\n",
    "# print all parameters of the estimator\n",
    "set_config(print_changed_only=False)"
   ],
   "metadata": {
    "collapsed": false,
    "pycharm": {
     "name": "#%%\n"
    }
   }
  },
  {
   "cell_type": "code",
   "execution_count": 3,
   "outputs": [],
   "source": [
    "# load and clean data\n",
    "df = pd.read_csv(r\".\\data\\big_five_personality.csv\", sep=\"\\t\")\n",
    "df = df[(df[\"IPC\"] == 1)]  # cleaning repeaters (same IP)\n",
    "df.dropna(inplace=True)\n",
    "df.drop(df.columns[50:107], axis=1, inplace=True)\n",
    "df.drop(df.columns[51:], axis=1, inplace=True)\n",
    "df.drop(\"country\", axis=1, inplace=True)"
   ],
   "metadata": {
    "collapsed": false,
    "pycharm": {
     "name": "#%%\n"
    }
   }
  },
  {
   "cell_type": "code",
   "execution_count": 4,
   "outputs": [
    {
     "name": "stdout",
     "output_type": "stream",
     "text": [
      "Call FactorAnalysis(feature_names=Index(['EXT1', 'EXT2', 'EXT3', 'EXT4', 'EXT5', 'EXT6', 'EXT7', 'EXT8', 'EXT9',\n",
      "       'EXT10', 'EST1', 'EST2', 'EST3', 'EST4', 'EST5', 'EST6', 'EST7', 'EST8',\n",
      "       'EST9', 'EST10', 'AGR1', 'AGR2', 'AGR3', 'AGR4', 'AGR5', 'AGR6', 'AGR7',\n",
      "       'AGR8', 'AGR9', 'AGR10', 'CSN1', 'CSN2', 'CSN3', 'CSN4', 'CSN5', 'CSN6',\n",
      "       'CSN7', 'CSN8', 'CSN9', 'CSN10', 'OPN1', 'OPN2', 'OPN3', 'OPN4', 'OPN5',\n",
      "       'OPN6', 'OPN7', 'OPN8', 'OPN9', 'OPN10'],\n",
      "      dtype='object'),\n",
      "               is_corr_mtx=False, max_iter=50, method='paf', n_factors=5,\n",
      "               rotation='varimax')\n",
      "Number of samples: 694886\n",
      "Number of features: 50\n",
      "Summary of estimated parameters: \n",
      "\n",
      "       Rotated Factor 1  Rotated Factor 2  Rotated Factor 3  Rotated Factor 4  \\\n",
      "EXT1           0.689351         -0.015538          0.018170          0.059019   \n",
      "EXT2          -0.682226          0.024155          0.044455         -0.008960   \n",
      "EXT3           0.624210         -0.209811          0.128006          0.031047   \n",
      "EXT4          -0.718907          0.154164          0.004181          0.032231   \n",
      "EXT5           0.691901         -0.040781          0.108139          0.111563   \n",
      "EXT6          -0.527627          0.115925          0.012059         -0.208764   \n",
      "EXT7           0.701278         -0.050461          0.057766          0.067357   \n",
      "EXT8          -0.580587          0.071148          0.100794          0.001153   \n",
      "EXT9           0.626295         -0.011978         -0.013096          0.165581   \n",
      "EXT10         -0.659533          0.198026          0.004495          0.040372   \n",
      "EST1          -0.123550          0.681035          0.003120         -0.069383   \n",
      "EST2           0.101827         -0.455875          0.007313          0.097394   \n",
      "EST3          -0.147055          0.610577          0.057704          0.023468   \n",
      "EST4           0.143751         -0.313745          0.137951         -0.018584   \n",
      "EST5          -0.046722          0.527307         -0.046940         -0.070279   \n",
      "EST6          -0.038897          0.728532         -0.038759         -0.072256   \n",
      "EST7           0.011569          0.722159         -0.126212          0.017281   \n",
      "EST8          -0.006582          0.741970         -0.141340          0.005680   \n",
      "EST9          -0.030151          0.698906         -0.005622         -0.017103   \n",
      "EST10         -0.244151          0.610994         -0.173123          0.089743   \n",
      "AGR1          -0.019282          0.062692          0.001450         -0.034951   \n",
      "AGR2           0.327125         -0.009287          0.016975          0.121327   \n",
      "AGR3           0.109704          0.246899         -0.146735          0.089616   \n",
      "AGR4           0.034576          0.111062          0.057912          0.059713   \n",
      "AGR5          -0.134591          0.049085          0.040922          0.020308   \n",
      "AGR6          -0.012466          0.202783          0.047984         -0.009011   \n",
      "AGR7          -0.291673          0.124132          0.032884         -0.004217   \n",
      "AGR8           0.131743          0.037268          0.125263          0.079638   \n",
      "AGR9           0.090939          0.159456          0.080054          0.097417   \n",
      "AGR10          0.304725         -0.065274          0.158460          0.143892   \n",
      "CSN1           0.024813         -0.084418          0.614787          0.104771   \n",
      "CSN2           0.063150          0.152110         -0.510290          0.153057   \n",
      "CSN3          -0.038583          0.056588          0.407735          0.265069   \n",
      "CSN4          -0.042338          0.400291         -0.520778          0.044106   \n",
      "CSN5           0.073309         -0.068745          0.627610         -0.055850   \n",
      "CSN6           0.019620          0.224793         -0.555694          0.104148   \n",
      "CSN7          -0.050911          0.105796          0.568282          0.055239   \n",
      "CSN8          -0.045230          0.267809         -0.426293          0.011321   \n",
      "CSN9           0.046637          0.032358          0.625946         -0.025851   \n",
      "CSN10          0.024235          0.015588          0.458966          0.274382   \n",
      "OPN1           0.048274         -0.019337          0.048306          0.566039   \n",
      "OPN2          -0.009880          0.237857          0.050299         -0.506326   \n",
      "OPN3           0.032913          0.139090         -0.063888          0.541961   \n",
      "OPN4           0.020324          0.145165          0.125833         -0.439951   \n",
      "OPN5           0.199820         -0.035175          0.160251          0.594015   \n",
      "OPN6          -0.068068          0.080440          0.067426         -0.432868   \n",
      "OPN7           0.071702         -0.092388          0.193396          0.490226   \n",
      "OPN8           0.034878          0.076332         -0.015082          0.549139   \n",
      "OPN9          -0.123526          0.160499          0.068053          0.404354   \n",
      "OPN10          0.169511          0.023921          0.040164          0.680064   \n",
      "\n",
      "       Rotated Factor 5  Communalities  Specific variances  \n",
      "EXT1           0.077290       0.485234            0.514766  \n",
      "EXT2          -0.126087       0.483971            0.516029  \n",
      "EXT3           0.260167       0.518695            0.481305  \n",
      "EXT4          -0.036815       0.543005            0.456995  \n",
      "EXT5           0.218276       0.552175            0.447825  \n",
      "EXT6          -0.129156       0.352238            0.647762  \n",
      "EXT7           0.162835       0.528727            0.471273  \n",
      "EXT8           0.055056       0.355335            0.644665  \n",
      "EXT9          -0.021924       0.420458            0.579542  \n",
      "EXT10         -0.052074       0.478560            0.521440  \n",
      "EST1           0.107133       0.495375            0.504625  \n",
      "EST2           0.005874       0.227764            0.772236  \n",
      "EST3           0.190277       0.434515            0.565485  \n",
      "EST4          -0.029631       0.139354            0.860646  \n",
      "EST5           0.005828       0.287413            0.712587  \n",
      "EST6           0.026201       0.539681            0.460319  \n",
      "EST7          -0.022260       0.538371            0.461629  \n",
      "EST8          -0.039803       0.572156            0.427844  \n",
      "EST9          -0.163280       0.516363            0.483637  \n",
      "EST10         -0.014694       0.471164            0.528836  \n",
      "AGR1          -0.492889       0.248466            0.751534  \n",
      "AGR2           0.530449       0.403482            0.596518  \n",
      "AGR3          -0.394946       0.258538            0.741462  \n",
      "AGR4           0.767635       0.609712            0.390288  \n",
      "AGR5          -0.639235       0.431232            0.568768  \n",
      "AGR6           0.581536       0.381845            0.618155  \n",
      "AGR7          -0.613610       0.478098            0.521902  \n",
      "AGR8           0.549458       0.342682            0.657318  \n",
      "AGR9           0.683346       0.516556            0.483444  \n",
      "AGR10          0.389395       0.294561            0.705439  \n",
      "CSN1           0.021560       0.397147            0.602853  \n",
      "CSN2           0.045776       0.313043            0.686957  \n",
      "CSN3           0.087851       0.248919            0.751081  \n",
      "CSN4          -0.024548       0.435783            0.564217  \n",
      "CSN5           0.055403       0.410184            0.589816  \n",
      "CSN6           0.006443       0.370601            0.629399  \n",
      "CSN7           0.037826       0.341212            0.658788  \n",
      "CSN8          -0.122257       0.270568            0.729432  \n",
      "CSN9           0.108395       0.407449            0.592551  \n",
      "CSN10          0.053088       0.289584            0.710416  \n",
      "OPN1          -0.031713       0.326444            0.673556  \n",
      "OPN2          -0.010360       0.315677            0.684323  \n",
      "OPN3           0.097688       0.327775            0.672225  \n",
      "OPN4          -0.092142       0.239367            0.760633  \n",
      "OPN5          -0.013752       0.419888            0.580112  \n",
      "OPN6          -0.083118       0.209933            0.790067  \n",
      "OPN7          -0.001959       0.291404            0.708596  \n",
      "OPN8          -0.103640       0.319565            0.680435  \n",
      "OPN9           0.178286       0.240937            0.759063  \n",
      "OPN10          0.049644       0.495870            0.504130   \n",
      "\n",
      "                  Eigenvalue  Variance Explained  Cumulative Variance\n",
      "Rotated Factor 1    6.761408            0.135228             0.135228\n",
      "Rotated Factor 2    4.453227            0.089065             0.224293\n",
      "Rotated Factor 3    3.298261            0.065965             0.290258\n",
      "Rotated Factor 4    2.859919            0.057198             0.347456\n",
      "Rotated Factor 5    2.204259            0.044085             0.391541\n",
      "Iterations needed until convergence: 4\n",
      "Absolute difference (R - R_hat): 61.4312\n",
      "KMO for all variables > 0.6?: True\n"
     ]
    }
   ],
   "source": [
    "fa = FactorAnalysis(n_factors=5, rotation=\"varimax\", feature_names=df.columns).fit(df)\n",
    "fa.summary()\n",
    "# test kmo\n",
    "print(f\"KMO for all variables > 0.6?: {np.all(FactorAnalysis.calculate_kmo(df)[0] > 0.6)}\")\n"
   ],
   "metadata": {
    "collapsed": false,
    "pycharm": {
     "name": "#%%\n"
    }
   }
  }
 ],
 "metadata": {
  "kernelspec": {
   "name": "pycharm-61a46f5b",
   "language": "python",
   "display_name": "PyCharm (FactorAnalysis)"
  },
  "language_info": {
   "codemirror_mode": {
    "name": "ipython",
    "version": 2
   },
   "file_extension": ".py",
   "mimetype": "text/x-python",
   "name": "python",
   "nbconvert_exporter": "python",
   "pygments_lexer": "ipython2",
   "version": "2.7.6"
  }
 },
 "nbformat": 4,
 "nbformat_minor": 0
}

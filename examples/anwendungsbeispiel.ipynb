{
 "cells": [
  {
   "cell_type": "code",
   "execution_count": 1,
   "metadata": {
    "tags": [
     "hide-input"
    ]
   },
   "outputs": [],
   "source": [
    "from warnings import filterwarnings\n",
    "\n",
    "import numpy as np\n",
    "import pandas as pd\n",
    "import seaborn as sns\n",
    "import matplotlib.pyplot as plt\n",
    "from sklearn.neighbors import LocalOutlierFactor\n",
    "from sklearn.preprocessing import LabelEncoder\n",
    "\n",
    "from factor_analysis import FactorAnalysis\n",
    "from factor_analysis.plotting import scree_plot, plot_loadings_heatmap, plot_corr_heatmap\n",
    "from factor_analyzer.factor_analyzer import calculate_kmo\n",
    "\n",
    "filterwarnings(\"ignore\")\n",
    "np.set_printoptions(suppress=True, precision=8)"
   ]
  },
  {
   "cell_type": "markdown",
   "source": [
    "# Anwendungsbeispiel: California Housing Data (1990)\n",
    "\n",
    "Dieser Datensatz wurde von [Kaggle, California Housing Data](https://www.kaggle.com/harrywang/housing) übernommen und wird auch in diesem Buch als Beispieldatensatz benutzt:\n",
    "[Handson ML](https://github.com/ageron/handson-ml2)\n",
    "\n",
    "In diesem Datensatz wurden 207 Werte zufällig entfernt und eine kategorische Variable eingeführt\n",
    "(ocean_proximity), welche grob die Nähe zum Meer angibt.\n",
    "\n",
    "In der Datensatzbeschreibung heißt es:\n",
    "> This dataset appeared in a 1997 paper titled Sparse Spatial Autoregressions by Pace, R. Kelley and Ronald Barry, published in the Statistics and Probability Letters journal.\n",
    "> They built it using the 1990 California census data.\n",
    ">\n",
    "> It contains one row per census block group. A block group is the smallest geographical unit for which the U.S. Census Bureau publishes sample data\n",
    "> (a block group typically has a population of 600 to 3,000 people).\n",
    "\n",
    "Das bedeutet, dass jede Beobachtung eine sogenannte 'block group' (https://www.census.gov/programs-surveys/geography/about/glossary.html#par_textimage_4) angibt. Eine 'Block-Gruppe'\n",
    "ist eine statistische Aufteilung von Volkszählungsgebieten des statistischen Bundesamts der USA.\n",
    "\n",
    "Anstelle von Block-Gruppe werden wir hier meistens eher den intuitiveren Begriff Bezirk oder Gegend benutzen.\n"
   ],
   "metadata": {
    "collapsed": false,
    "pycharm": {
     "name": "#%% md\n"
    }
   }
  },
  {
   "cell_type": "markdown",
   "metadata": {
    "pycharm": {
     "name": "#%% md\n"
    }
   },
   "source": [
    "## Beschreibung der Daten"
   ]
  },
  {
   "cell_type": "code",
   "execution_count": 2,
   "metadata": {
    "pycharm": {
     "name": "#%%\n"
    }
   },
   "outputs": [
    {
     "name": "stdout",
     "output_type": "stream",
     "text": [
      "<class 'pandas.core.frame.DataFrame'>\n",
      "RangeIndex: 20640 entries, 0 to 20639\n",
      "Data columns (total 10 columns):\n",
      " #   Column              Non-Null Count  Dtype  \n",
      "---  ------              --------------  -----  \n",
      " 0   longitude           20640 non-null  float64\n",
      " 1   latitude            20640 non-null  float64\n",
      " 2   housing_median_age  20640 non-null  float64\n",
      " 3   total_rooms         20640 non-null  float64\n",
      " 4   total_bedrooms      20433 non-null  float64\n",
      " 5   population          20640 non-null  float64\n",
      " 6   households          20640 non-null  float64\n",
      " 7   median_income       20640 non-null  float64\n",
      " 8   median_house_value  20640 non-null  float64\n",
      " 9   ocean_proximity     20640 non-null  object \n",
      "dtypes: float64(9), object(1)\n",
      "memory usage: 1.6+ MB\n"
     ]
    }
   ],
   "source": [
    "df = pd.read_csv(\"./data/housing.csv\", header=0, sep=\",\")\n",
    "df.info()"
   ]
  },
  {
   "cell_type": "markdown",
   "metadata": {
    "pycharm": {
     "name": "#%% md\n"
    }
   },
   "source": [
    "Wir können sehen, dass alle Spalten numerische Merkmale sind, außer der letzten Spalte. Diese\n",
    "ist das oben erwähnte kategorische Merkmal 'ocean_proximity', d.h. die Nähe zum Meer.\n",
    "\n",
    "Insgesamt haben wir 20640 Beobachtungen (Bezirke) und 9 metrisch skalierte Merkmale haben. In der Spalte\n",
    "'total_bedrooms' sind jedoch nur 20433 vorhandene Werte, d.h. 207 Werte fehlen."
   ]
  },
  {
   "cell_type": "code",
   "execution_count": 3,
   "metadata": {
    "pycharm": {
     "name": "#%%\n"
    }
   },
   "outputs": [
    {
     "data": {
      "text/plain": "   longitude  latitude  housing_median_age  total_rooms  total_bedrooms  \\\n0    -122.23     37.88                41.0        880.0           129.0   \n1    -122.22     37.86                21.0       7099.0          1106.0   \n2    -122.24     37.85                52.0       1467.0           190.0   \n3    -122.25     37.85                52.0       1274.0           235.0   \n4    -122.25     37.85                52.0       1627.0           280.0   \n\n   population  households  median_income  median_house_value ocean_proximity  \n0       322.0       126.0         8.3252            452600.0        NEAR BAY  \n1      2401.0      1138.0         8.3014            358500.0        NEAR BAY  \n2       496.0       177.0         7.2574            352100.0        NEAR BAY  \n3       558.0       219.0         5.6431            341300.0        NEAR BAY  \n4       565.0       259.0         3.8462            342200.0        NEAR BAY  ",
      "text/html": "<div>\n<style scoped>\n    .dataframe tbody tr th:only-of-type {\n        vertical-align: middle;\n    }\n\n    .dataframe tbody tr th {\n        vertical-align: top;\n    }\n\n    .dataframe thead th {\n        text-align: right;\n    }\n</style>\n<table border=\"1\" class=\"dataframe\">\n  <thead>\n    <tr style=\"text-align: right;\">\n      <th></th>\n      <th>longitude</th>\n      <th>latitude</th>\n      <th>housing_median_age</th>\n      <th>total_rooms</th>\n      <th>total_bedrooms</th>\n      <th>population</th>\n      <th>households</th>\n      <th>median_income</th>\n      <th>median_house_value</th>\n      <th>ocean_proximity</th>\n    </tr>\n  </thead>\n  <tbody>\n    <tr>\n      <th>0</th>\n      <td>-122.23</td>\n      <td>37.88</td>\n      <td>41.0</td>\n      <td>880.0</td>\n      <td>129.0</td>\n      <td>322.0</td>\n      <td>126.0</td>\n      <td>8.3252</td>\n      <td>452600.0</td>\n      <td>NEAR BAY</td>\n    </tr>\n    <tr>\n      <th>1</th>\n      <td>-122.22</td>\n      <td>37.86</td>\n      <td>21.0</td>\n      <td>7099.0</td>\n      <td>1106.0</td>\n      <td>2401.0</td>\n      <td>1138.0</td>\n      <td>8.3014</td>\n      <td>358500.0</td>\n      <td>NEAR BAY</td>\n    </tr>\n    <tr>\n      <th>2</th>\n      <td>-122.24</td>\n      <td>37.85</td>\n      <td>52.0</td>\n      <td>1467.0</td>\n      <td>190.0</td>\n      <td>496.0</td>\n      <td>177.0</td>\n      <td>7.2574</td>\n      <td>352100.0</td>\n      <td>NEAR BAY</td>\n    </tr>\n    <tr>\n      <th>3</th>\n      <td>-122.25</td>\n      <td>37.85</td>\n      <td>52.0</td>\n      <td>1274.0</td>\n      <td>235.0</td>\n      <td>558.0</td>\n      <td>219.0</td>\n      <td>5.6431</td>\n      <td>341300.0</td>\n      <td>NEAR BAY</td>\n    </tr>\n    <tr>\n      <th>4</th>\n      <td>-122.25</td>\n      <td>37.85</td>\n      <td>52.0</td>\n      <td>1627.0</td>\n      <td>280.0</td>\n      <td>565.0</td>\n      <td>259.0</td>\n      <td>3.8462</td>\n      <td>342200.0</td>\n      <td>NEAR BAY</td>\n    </tr>\n  </tbody>\n</table>\n</div>"
     },
     "execution_count": 3,
     "metadata": {},
     "output_type": "execute_result"
    }
   ],
   "source": [
    "df.head()"
   ]
  },
  {
   "cell_type": "code",
   "execution_count": 4,
   "outputs": [
    {
     "data": {
      "text/plain": "          longitude      latitude  housing_median_age   total_rooms  \\\ncount  20640.000000  20640.000000        20640.000000  20640.000000   \nmean    -119.569704     35.631861           28.639486   2635.763081   \nstd        2.003532      2.135952           12.585558   2181.615252   \nmin     -124.350000     32.540000            1.000000      2.000000   \n25%     -121.800000     33.930000           18.000000   1447.750000   \n50%     -118.490000     34.260000           29.000000   2127.000000   \n75%     -118.010000     37.710000           37.000000   3148.000000   \nmax     -114.310000     41.950000           52.000000  39320.000000   \n\n       total_bedrooms    population    households  median_income  \\\ncount    20433.000000  20640.000000  20640.000000   20640.000000   \nmean       537.870553   1425.476744    499.539680       3.870671   \nstd        421.385070   1132.462122    382.329753       1.899822   \nmin          1.000000      3.000000      1.000000       0.499900   \n25%        296.000000    787.000000    280.000000       2.563400   \n50%        435.000000   1166.000000    409.000000       3.534800   \n75%        647.000000   1725.000000    605.000000       4.743250   \nmax       6445.000000  35682.000000   6082.000000      15.000100   \n\n       median_house_value  \ncount        20640.000000  \nmean        206855.816909  \nstd         115395.615874  \nmin          14999.000000  \n25%         119600.000000  \n50%         179700.000000  \n75%         264725.000000  \nmax         500001.000000  ",
      "text/html": "<div>\n<style scoped>\n    .dataframe tbody tr th:only-of-type {\n        vertical-align: middle;\n    }\n\n    .dataframe tbody tr th {\n        vertical-align: top;\n    }\n\n    .dataframe thead th {\n        text-align: right;\n    }\n</style>\n<table border=\"1\" class=\"dataframe\">\n  <thead>\n    <tr style=\"text-align: right;\">\n      <th></th>\n      <th>longitude</th>\n      <th>latitude</th>\n      <th>housing_median_age</th>\n      <th>total_rooms</th>\n      <th>total_bedrooms</th>\n      <th>population</th>\n      <th>households</th>\n      <th>median_income</th>\n      <th>median_house_value</th>\n    </tr>\n  </thead>\n  <tbody>\n    <tr>\n      <th>count</th>\n      <td>20640.000000</td>\n      <td>20640.000000</td>\n      <td>20640.000000</td>\n      <td>20640.000000</td>\n      <td>20433.000000</td>\n      <td>20640.000000</td>\n      <td>20640.000000</td>\n      <td>20640.000000</td>\n      <td>20640.000000</td>\n    </tr>\n    <tr>\n      <th>mean</th>\n      <td>-119.569704</td>\n      <td>35.631861</td>\n      <td>28.639486</td>\n      <td>2635.763081</td>\n      <td>537.870553</td>\n      <td>1425.476744</td>\n      <td>499.539680</td>\n      <td>3.870671</td>\n      <td>206855.816909</td>\n    </tr>\n    <tr>\n      <th>std</th>\n      <td>2.003532</td>\n      <td>2.135952</td>\n      <td>12.585558</td>\n      <td>2181.615252</td>\n      <td>421.385070</td>\n      <td>1132.462122</td>\n      <td>382.329753</td>\n      <td>1.899822</td>\n      <td>115395.615874</td>\n    </tr>\n    <tr>\n      <th>min</th>\n      <td>-124.350000</td>\n      <td>32.540000</td>\n      <td>1.000000</td>\n      <td>2.000000</td>\n      <td>1.000000</td>\n      <td>3.000000</td>\n      <td>1.000000</td>\n      <td>0.499900</td>\n      <td>14999.000000</td>\n    </tr>\n    <tr>\n      <th>25%</th>\n      <td>-121.800000</td>\n      <td>33.930000</td>\n      <td>18.000000</td>\n      <td>1447.750000</td>\n      <td>296.000000</td>\n      <td>787.000000</td>\n      <td>280.000000</td>\n      <td>2.563400</td>\n      <td>119600.000000</td>\n    </tr>\n    <tr>\n      <th>50%</th>\n      <td>-118.490000</td>\n      <td>34.260000</td>\n      <td>29.000000</td>\n      <td>2127.000000</td>\n      <td>435.000000</td>\n      <td>1166.000000</td>\n      <td>409.000000</td>\n      <td>3.534800</td>\n      <td>179700.000000</td>\n    </tr>\n    <tr>\n      <th>75%</th>\n      <td>-118.010000</td>\n      <td>37.710000</td>\n      <td>37.000000</td>\n      <td>3148.000000</td>\n      <td>647.000000</td>\n      <td>1725.000000</td>\n      <td>605.000000</td>\n      <td>4.743250</td>\n      <td>264725.000000</td>\n    </tr>\n    <tr>\n      <th>max</th>\n      <td>-114.310000</td>\n      <td>41.950000</td>\n      <td>52.000000</td>\n      <td>39320.000000</td>\n      <td>6445.000000</td>\n      <td>35682.000000</td>\n      <td>6082.000000</td>\n      <td>15.000100</td>\n      <td>500001.000000</td>\n    </tr>\n  </tbody>\n</table>\n</div>"
     },
     "execution_count": 4,
     "metadata": {},
     "output_type": "execute_result"
    }
   ],
   "source": [
    "df.describe()"
   ],
   "metadata": {
    "collapsed": false,
    "pycharm": {
     "name": "#%%\n"
    }
   }
  },
  {
   "cell_type": "markdown",
   "metadata": {
    "pycharm": {
     "name": "#%% md\n"
    }
   },
   "source": [
    "Für die Faktoranalyse benötigen wir jedoch ausschließlich metrisch skalierte Merkmale, weshalb wir\n",
    "das kategorische Merkmal später entfernen. Für die Beschreibung des Datensatz könnte es allerdings\n",
    "noch interessant sein.\n",
    "\n",
    "Es fällt außerdem auf, das das Merkmal 'median_income' mit einer Mittelwert von 3.87 eine angepasste Skala haben muss. Es kann also nicht direkt als Einkommen interpretiert werden."
   ]
  },
  {
   "cell_type": "markdown",
   "metadata": {
    "pycharm": {
     "name": "#%% md\n"
    }
   },
   "source": [
    "### Fehlende Werte\n",
    "Bevor wir uns die Verteilung der Daten anschauen, untersuchen wir den Datensatz noch auf\n",
    "fehlende Werte.\n",
    "Oben haben wir bereits gesehen, dass es fehlende Werte in der Spalte 'total_bedrooms' gibt.\n",
    "\n",
    "Die folgende Tabelle zeigt einige Statistiken bedingt darauf, dass der Wert in dieser Spalte fehlt."
   ]
  },
  {
   "cell_type": "code",
   "execution_count": 5,
   "metadata": {
    "pycharm": {
     "name": "#%%\n"
    }
   },
   "outputs": [
    {
     "data": {
      "text/plain": "       longitude   latitude  housing_median_age  total_rooms  total_bedrooms  \\\nmean -119.472560  35.497633           29.270531  2562.603865             NaN   \nstd     2.001424   2.097298           11.964927  1787.269789             NaN   \n\n       population  households  median_income  median_house_value  \nmean  1477.772947  510.024155       3.822244       206007.280193  \nstd   1057.448212  386.120704       1.955595       111638.214545  ",
      "text/html": "<div>\n<style scoped>\n    .dataframe tbody tr th:only-of-type {\n        vertical-align: middle;\n    }\n\n    .dataframe tbody tr th {\n        vertical-align: top;\n    }\n\n    .dataframe thead th {\n        text-align: right;\n    }\n</style>\n<table border=\"1\" class=\"dataframe\">\n  <thead>\n    <tr style=\"text-align: right;\">\n      <th></th>\n      <th>longitude</th>\n      <th>latitude</th>\n      <th>housing_median_age</th>\n      <th>total_rooms</th>\n      <th>total_bedrooms</th>\n      <th>population</th>\n      <th>households</th>\n      <th>median_income</th>\n      <th>median_house_value</th>\n    </tr>\n  </thead>\n  <tbody>\n    <tr>\n      <th>mean</th>\n      <td>-119.472560</td>\n      <td>35.497633</td>\n      <td>29.270531</td>\n      <td>2562.603865</td>\n      <td>NaN</td>\n      <td>1477.772947</td>\n      <td>510.024155</td>\n      <td>3.822244</td>\n      <td>206007.280193</td>\n    </tr>\n    <tr>\n      <th>std</th>\n      <td>2.001424</td>\n      <td>2.097298</td>\n      <td>11.964927</td>\n      <td>1787.269789</td>\n      <td>NaN</td>\n      <td>1057.448212</td>\n      <td>386.120704</td>\n      <td>1.955595</td>\n      <td>111638.214545</td>\n    </tr>\n  </tbody>\n</table>\n</div>"
     },
     "execution_count": 5,
     "metadata": {},
     "output_type": "execute_result"
    }
   ],
   "source": [
    "df[df[\"total_bedrooms\"].isna()].describe().iloc[1:3, :]"
   ]
  },
  {
   "cell_type": "markdown",
   "metadata": {
    "pycharm": {
     "name": "#%% md\n"
    }
   },
   "source": [
    "Und hier sieht man die Statistiken, für den Fall, dass der Wert *nicht* fehlt."
   ]
  },
  {
   "cell_type": "code",
   "execution_count": 6,
   "metadata": {
    "pycharm": {
     "name": "#%%\n"
    }
   },
   "outputs": [
    {
     "data": {
      "text/plain": "       longitude   latitude  housing_median_age  total_rooms  total_bedrooms  \\\nmean -119.570689  35.633221           28.633094  2636.504233      537.870553   \nstd     2.003578   2.136348           12.591805  2185.269567      421.385070   \n\n       population  households  median_income  median_house_value  \nmean  1424.946949  499.433465       3.871162       206864.413155  \nstd   1133.208490  382.299226       1.899291       115435.667099  ",
      "text/html": "<div>\n<style scoped>\n    .dataframe tbody tr th:only-of-type {\n        vertical-align: middle;\n    }\n\n    .dataframe tbody tr th {\n        vertical-align: top;\n    }\n\n    .dataframe thead th {\n        text-align: right;\n    }\n</style>\n<table border=\"1\" class=\"dataframe\">\n  <thead>\n    <tr style=\"text-align: right;\">\n      <th></th>\n      <th>longitude</th>\n      <th>latitude</th>\n      <th>housing_median_age</th>\n      <th>total_rooms</th>\n      <th>total_bedrooms</th>\n      <th>population</th>\n      <th>households</th>\n      <th>median_income</th>\n      <th>median_house_value</th>\n    </tr>\n  </thead>\n  <tbody>\n    <tr>\n      <th>mean</th>\n      <td>-119.570689</td>\n      <td>35.633221</td>\n      <td>28.633094</td>\n      <td>2636.504233</td>\n      <td>537.870553</td>\n      <td>1424.946949</td>\n      <td>499.433465</td>\n      <td>3.871162</td>\n      <td>206864.413155</td>\n    </tr>\n    <tr>\n      <th>std</th>\n      <td>2.003578</td>\n      <td>2.136348</td>\n      <td>12.591805</td>\n      <td>2185.269567</td>\n      <td>421.385070</td>\n      <td>1133.208490</td>\n      <td>382.299226</td>\n      <td>1.899291</td>\n      <td>115435.667099</td>\n    </tr>\n  </tbody>\n</table>\n</div>"
     },
     "execution_count": 6,
     "metadata": {},
     "output_type": "execute_result"
    }
   ],
   "source": [
    "df[df[\"total_bedrooms\"].notna()].describe().iloc[1:3,:]"
   ]
  },
  {
   "cell_type": "markdown",
   "metadata": {
    "pycharm": {
     "name": "#%% md\n"
    }
   },
   "source": [
    "Die Durchschnitte und Standardabweichungen sind ungefähr identisch, weswegen man hier auf den ersten Blick wohl\n",
    "keinen Grund für das Fehlen der Werte erkennen kann.\n",
    "\n",
    "Da anteilig nur sehr wenige Werte fehlen (siehe unten), habe ich mich dafür entschieden, die Beobachtungen mit fehlenden Werten zu entfernen."
   ]
  },
  {
   "cell_type": "code",
   "execution_count": 7,
   "metadata": {
    "pycharm": {
     "name": "#%%\n"
    }
   },
   "outputs": [
    {
     "name": "stdout",
     "output_type": "stream",
     "text": [
      "Anteil fehlender Werte im Merkmal 'total_bedrooms': 1.00%\n"
     ]
    }
   ],
   "source": [
    "print(f\"Anteil fehlender Werte im Merkmal 'total_bedrooms': {df.total_bedrooms.isna().sum() / df.shape[0]:.2%}\")"
   ]
  },
  {
   "cell_type": "code",
   "execution_count": 8,
   "metadata": {
    "pycharm": {
     "name": "#%%\n"
    }
   },
   "outputs": [],
   "source": [
    "X = df.dropna()"
   ]
  },
  {
   "cell_type": "markdown",
   "metadata": {
    "pycharm": {
     "name": "#%% md\n"
    }
   },
   "source": [
    "### Die Verteilung der Daten\n",
    "\n",
    "Nun schauen wir uns einige univariate und bivariate Plots der metrischen Merkmale an, um ein Gefühl für die Daten zu bekommen."
   ]
  },
  {
   "cell_type": "code",
   "execution_count": 9,
   "metadata": {
    "pycharm": {
     "name": "#%%\n"
    }
   },
   "outputs": [
    {
     "data": {
      "text/plain": "<Figure size 1080x720 with 9 Axes>",
      "image/png": "[encoded data removed]"
     },
     "metadata": {
      "needs_background": "light"
     },
     "output_type": "display_data"
    }
   ],
   "source": [
    "X.hist(figsize=(15, 10), bins=20)\n",
    "plt.show()"
   ]
  },
  {
   "cell_type": "code",
   "execution_count": null,
   "outputs": [],
   "source": [
    "sns.pairplot(X, hue=\"ocean_proximity\")"
   ],
   "metadata": {
    "collapsed": false,
    "pycharm": {
     "name": "#%%\n",
     "is_executing": true
    }
   }
  },
  {
   "cell_type": "markdown",
   "metadata": {
    "pycharm": {
     "name": "#%% md\n"
    }
   },
   "source": [
    "In diesem Pairplot sind univariate Plots auf der Hauptdiagonalen und bivariate Plots auf den nicht-diagonalen Elementen. Diese sind in Abhängigkeit\n",
    "des kategorischen Merkmals 'ocean_proximity' angegeben.\n",
    "Es fällt auf, dass die Merkmale total_rooms, total_bedrooms, population und households hoch miteinander korrelieren. Dies ist jedoch\n",
    "unter Beachtung der Bedeutung der Merkmale nicht überraschend, da eine hohe Anzahl an Menschen im Bezirk schließlich bedeuten muss, dass mehr\n",
    "Räume existieren und insgesamt die Zahl der Haushälte wohl höher sein muss. Des Weiteren sind sieht man, dass alle vier Merkmale eine relativ\n",
    "hohe Schiefe aufweisen. Dies deutet auf Ausreißer hin, wie man auch an den Scatter-Plots sehen kann (viele Ausreißer sind unter 1h vom Meer entfernt).\n",
    "\n",
    "Um die Schiefe der Verteilungen etwas zu reduzieren, versuchen wir mithilfe von Local Outlier Factor (LOF) einige Datenpunkte als Ausreißer zu klassifizieren."
   ]
  },
  {
   "cell_type": "code",
   "execution_count": null,
   "metadata": {
    "pycharm": {
     "name": "#%%\n",
     "is_executing": true
    }
   },
   "outputs": [],
   "source": [
    "labels = LocalOutlierFactor(n_neighbors=35).fit_predict(X.drop(columns=\"ocean_proximity\"))\n",
    "outliers = X[labels == -1]\n",
    "print(f\"Number of outliers detected by LOF: {outliers.shape[0]}\")"
   ]
  },
  {
   "cell_type": "code",
   "execution_count": null,
   "metadata": {
    "pycharm": {
     "name": "#%%\n",
     "is_executing": true
    }
   },
   "outputs": [],
   "source": [
    "X = X[labels == 1]\n",
    "sns.pairplot(X, hue=\"ocean_proximity\")\n",
    "plt.show()"
   ]
  },
  {
   "cell_type": "markdown",
   "metadata": {
    "pycharm": {
     "name": "#%% md\n"
    }
   },
   "source": [
    "Wie man sehen kann, haben die Daten immer noch eine relativ hohe Schiefe, dies ist allerdings für unsere weitere Analyse nicht der Fokus.\n",
    "\n",
    "Für den Rest der Analyse, werden wir das kategorische Merkmal entfernen."
   ]
  },
  {
   "cell_type": "code",
   "execution_count": null,
   "outputs": [],
   "source": [
    "X.drop(columns=\"ocean_proximity\", inplace=True)"
   ],
   "metadata": {
    "collapsed": false,
    "pycharm": {
     "name": "#%%\n",
     "is_executing": true
    }
   }
  },
  {
   "cell_type": "markdown",
   "metadata": {},
   "source": [
    "# Faktoranalyse Schritt 1: Geeignetheit der Daten untersuchen\n",
    "\n",
    "Bevor wir mit der eigentlichen Faktoranalyse starten, müssen wir die Geeignetheit der Daten überprüfen.\n",
    "Dafür benutzen wir das Kaiser-Meyer-Olkin-Kriterium (KMO-Kriterium) für den kompletten Datensatz und das\n",
    "dazu verwandte Measure of sampling adequacy (MSA) für jedes einzelne Merkmal.\n",
    "\n",
    "Generell wollen wir, dass der KMO-Wert über 0.5 ist und der MSA-Wert für jede Variable ebenfalls 0.5 nicht\n",
    "unterschreitet."
   ]
  },
  {
   "cell_type": "code",
   "execution_count": null,
   "metadata": {
    "pycharm": {
     "name": "#%%\n",
     "is_executing": true
    }
   },
   "outputs": [],
   "source": [
    "msa_values, kmo = calculate_kmo(X)\n",
    "print(f\"The KMO-Criterion has a value of {kmo:.4f}\\n\")\n",
    "msa_df = pd.DataFrame(msa_values.reshape(-1, 1), index=X.columns, columns=[\"MSA\"])\n",
    "print(msa_df)"
   ]
  },
  {
   "cell_type": "markdown",
   "metadata": {},
   "source": [
    "Der KMO-Wert ist über 0.6, was auf eine akzeptable Qualität hinweist. Dies ist jedoch kein idealer Wert.\n",
    "Außerdem ist der MSA-Wert für 4 Variablen unter 0.5, jedoch ist der Wert für die anderen Merkmale gut.\n",
    "\n",
    "Jetzt könnte man beispielweise die Merkmale mit einem MSA-Wert unter 0.5 entfernen. Für dieses Beispiel\n",
    "werden wir allerdings mit allen Variablen fortfahren.\n",
    "\n",
    "Man sollte sich zudem noch die Korrelationsmatrix direkt anschauen. Dies tun wir im Folgenden mit einer\n",
    "Heatmap, da sie sich sehr gut als visuelle Repräsentation eignet."
   ]
  },
  {
   "cell_type": "code",
   "execution_count": null,
   "metadata": {
    "pycharm": {
     "name": "#%%\n",
     "is_executing": true
    }
   },
   "outputs": [],
   "source": [
    "plt.figure(figsize=(10, 10))\n",
    "plot_corr_heatmap(X)#, file=\"./plots/california_housing_heatmap.png\")"
   ]
  },
  {
   "cell_type": "markdown",
   "metadata": {
    "pycharm": {
     "name": "#%% md\n"
    }
   },
   "source": [
    "Hier sieht man, wie es mehrere Gruppen von hoch korrelierten Merkmalen gibt. Wie wir schon im Pairplot gesehen haben,\n",
    "sind das die vier Merkmale in der Mitte, sowie housing_median_age mit einer leicht negativen Korrelation zu diesen vier Merkmalen.\n",
    "\n",
    "Ebenso ist Longitude und Latitude negativ korreliert. Die Merkmale median_income und meidian_house_value sind positiv miteinander korreliert.\n",
    "Dies deutet schon darauf hin, dass eine 3-Faktorlösung wahrscheinlich eine gute Wahl von k sein könnte. Im folgenden werden dies genauer betrachten."
   ]
  },
  {
   "cell_type": "markdown",
   "metadata": {
    "pycharm": {
     "name": "#%% md\n"
    }
   },
   "source": [
    "# Faktoranalyse Schritt 2: Wahl der Faktorzahl $k$\n",
    "\n",
    "Um diese Frage zu beantworten, werden wir zunächst alle Faktoren mit der Hauptkomponentenmethode (Principal Component, PC)\n",
    "extrahieren und die Eigenwerte der Faktoren mithilfe eines 'Scree Plots' betrachten.\n",
    "\n",
    "Dann können wir die Faktoren behalten, die einen Eigenwert größer Eins (Kaiser-Kriterium) haben, oder anhand eines 'Knicks'\n",
    "im Plot eine geeignete Faktorzahl erkennen."
   ]
  },
  {
   "cell_type": "code",
   "execution_count": null,
   "metadata": {
    "pycharm": {
     "name": "#%%\n",
     "is_executing": true
    }
   },
   "outputs": [],
   "source": [
    "fa = FactorAnalysis(n_factors=X.shape[1], method=\"pc\").fit(X)"
   ]
  },
  {
   "cell_type": "code",
   "execution_count": null,
   "metadata": {
    "pycharm": {
     "name": "#%%\n",
     "is_executing": true
    }
   },
   "outputs": [],
   "source": [
    "fig, ax = plt.subplots(figsize=(10, 7))\n",
    "scree_plot(fa.eigenvalues_, ax)\n",
    "#plt.savefig(\"./plots/california_housing_scree_plot.png\")\n",
    "plt.show()"
   ]
  },
  {
   "cell_type": "markdown",
   "metadata": {},
   "source": [
    "Hier können wir sehen, dass die ersten drei Faktoren einen Eigenwert\n",
    "größer als Eins haben. Dies macht im Hinblick auf die Korrelationsmatrix,\n",
    "die wir vorhin gesehen haben, wegen den drei 'Boxen' auch Sinn. Nach\n",
    "dem Kaiser-Kriterium sollten wir also ein 3-Faktor-Modell benutzen.\n",
    "\n",
    "Der vierte Faktor ist jedoch nur minimal unter dem Eigenwert Eins, weshalb\n",
    "man diesen auch nicht direkt ausschließen sollte. Ein 'Knick' wäre bei\n",
    "$k = 5$ erkennbar.\n",
    "Wir werden also $k \\in [3, 4, 5]$ ausprobieren und den 'Besten' auswählen."
   ]
  },
  {
   "cell_type": "markdown",
   "metadata": {
    "pycharm": {
     "name": "#%% md\n"
    }
   },
   "source": [
    "# Faktoranalyse Schritt 3: Extrahieren der Faktoren\n",
    "Jetzt führen wir die eigentliche Faktorextraktion durch.\n",
    "\n",
    "Dafür werden wir drei unterschiedliche Extraktionsmethoden miteinander vergleichen:\n",
    " - Hauptkomponentenmethode (engl. Principal Components Method (PC))\n",
    " - Hauptachsen-Faktorisierung (engl. Principal Axis Factoring (PAF))\n",
    " - Iterierte Hauptachsen-Faktorisierung (engl. Iterated Principal Axis Factoring (Iterated PAF))\n",
    "\n",
    "Dabei ist die letzte Variante wohl die am Häufigsten eingesetzte Methode (unter diesen drei)"
   ]
  },
  {
   "cell_type": "code",
   "execution_count": null,
   "metadata": {
    "pycharm": {
     "name": "#%%\n",
     "is_executing": true
    }
   },
   "outputs": [],
   "source": [
    "methods = [\n",
    "    (\"PC\", FactorAnalysis(method=\"pc\")),\n",
    "    (\"Nicht-iterierte PAF\", FactorAnalysis(method=\"paf\", max_iter=1)),\n",
    "    (\"Iterierte PAF\", FactorAnalysis(method=\"paf\", max_iter=50)),\n",
    "]\n",
    "figsize = (15, 8)\n",
    "for n_factors in range(3, 6):\n",
    "    # this convenience method accepts unfitted factor analysis instances\n",
    "    # and fits them for us. With the fa_params dict we can easily specify\n",
    "    # the arguments which are shared across all instances.\n",
    "    plot_loadings_heatmap(X, methods, figsize, fa_params={\"n_factors\": n_factors})#, file=f\"./plots/cal_housing_loadings_with_{n_factors}_factors.png\")"
   ]
  },
  {
   "cell_type": "markdown",
   "metadata": {
    "pycharm": {
     "name": "#%% md\n"
    }
   },
   "source": [
    "Hier sehen wir in jeder Zeile die Ladungsmatrizen der drei unterschiedlichen Methoden als Heatmap dargestellt.\n",
    "Wir stellen fest, dass die 3-Faktorlösung tatsächlich im Hinblick auf eine einfache Struktur eine gute Lösung darstellt.\n",
    "Die 4-Faktorlösung könnte jedoch auch noch eine valide Lösung sein. Lediglich die 5-Faktorlösung ist problematisch,\n",
    "da kein Merkmal hoch (absoluter Wert größer 0.4) auf den fünften Faktor lädt.\n",
    "\n",
    "Ein Problem ist jedoch, dass das Merkmal housing_median_age nur bei der PC-Methode sehr hoch auf den vierten Faktor lädt\n",
    "und bei einer 3-Faktorlösung nur eine moderate Ladung auf den ersten Faktor hat.\n",
    "Dies deutet auf eine hohe spezifische Varianz hin, d.h. die Faktoren sind nicht gut in der Lage, die Varianz des Merkmals\n",
    "zu erklären.\n",
    "\n",
    "Wir werden also die 3-Faktorlösung genauer betrachten."
   ]
  },
  {
   "cell_type": "code",
   "execution_count": null,
   "metadata": {
    "pycharm": {
     "name": "#%%\n",
     "is_executing": true
    }
   },
   "outputs": [],
   "source": [
    "fa_params = {\"n_factors\": 3}\n",
    "\n",
    "plot_loadings_heatmap(X, methods, figsize, fa_params=fa_params, annotate=True)"
   ]
  },
  {
   "cell_type": "markdown",
   "source": [
    "Wir können sehen, dass bei der PC-Methode die Ladungen generell höher ausfallen und dass der zweite Faktor ein unterschiedliches\n",
    "Vorzeichen besitzt, im Gegensatz zu den anderen beiden Methoden.\n",
    "\n",
    "Die iterierte und nicht-iterierte PAF-Methode sind sehr ähnlich zueinander. Jedoch ist die iterierte\n",
    "Variante oft in Hinblick auf die reproduzierte Korrelationsmatrix besser. Dies können wir anhand des\n",
    "RMSE untersuchen:"
   ],
   "metadata": {
    "collapsed": false,
    "pycharm": {
     "name": "#%% md\n"
    }
   }
  },
  {
   "cell_type": "code",
   "execution_count": null,
   "metadata": {
    "pycharm": {
     "name": "#%%\n",
     "is_executing": true
    }
   },
   "outputs": [],
   "source": [
    "for method, fa in methods:\n",
    "    print(f\"RMSE von {method}: {fa.get_rmse():.4f}\")"
   ]
  },
  {
   "cell_type": "markdown",
   "source": [
    "Der root mean squared error of residuals (RMSE) ist bei der iterierten PAF-Methode am geringsten, gefolgt von der nicht-iterativen Variante und der\n",
    "Hauptkomponentenmethode.\n",
    "\n",
    "Diesen Unterschied können wir auch noch grafisch analysieren:"
   ],
   "metadata": {
    "collapsed": false,
    "pycharm": {
     "name": "#%% md\n"
    }
   }
  },
  {
   "cell_type": "code",
   "execution_count": null,
   "outputs": [],
   "source": [
    "fig, axes = plt.subplots(ncols=3, figsize=(20, 6), sharey=True)\n",
    "for ax, (method, fa) in zip(axes, methods):\n",
    "    R = fa.corr_\n",
    "    R_hat = fa.get_reprod_corr()\n",
    "    abs_residuals = np.abs(R - R_hat)\n",
    "    mask = np.triu(np.ones_like(R))\n",
    "    ax.set_title(method)\n",
    "    sns.heatmap(abs_residuals.round(2), cmap=\"BuGn\", ax=ax, cbar=False, annot=True, square=True, mask=mask)\n",
    "fig.suptitle(\"Residualsmatrizen von drei Extraktionsmethoden mit k=3\")\n",
    "#plt.savefig(\"./plots/cal_housing_residual_mtx_plot.png\")\n",
    "plt.show()"
   ],
   "metadata": {
    "collapsed": false,
    "pycharm": {
     "name": "#%%\n",
     "is_executing": true
    }
   }
  },
  {
   "cell_type": "code",
   "execution_count": null,
   "metadata": {
    "pycharm": {
     "name": "#%%\n",
     "is_executing": true
    }
   },
   "outputs": [],
   "source": [
    "#for i, (_, fa) in enumerate(methods):\n",
    "#    with open(f\"./plots/cal_housing_parameter_summary_{i}.txt\", \"a\") as f:\n",
    "#        fa.print_summary(file=f)\n",
    "for _, fa in methods:\n",
    "    fa.print_summary()"
   ]
  },
  {
   "cell_type": "markdown",
   "metadata": {
    "pycharm": {
     "name": "#%% md\n"
    }
   },
   "source": [
    "In der Zusammenfassung können wir neben den Ladungen auch die Kommunalitäten und spezifischen Varianzen betrachten.\n",
    "Die Eigenwerte werden jedoch nur für PC-Methode angezeigt. Dies ist aufgrund des in der Seminararbeit angesprochenen\n",
    "Problems der Indefinitheit der reduzierten Korrelationsmatrix $\\mathbf{\\widehat{R}}$, auf der die Eigenwertzerlegung\n",
    "bei der PAF-Methode basiert. Daher können bei dieser Methode die Eigenwerte nicht sinnvoll als Anteil an erklärter Varianz interpretiert werden.\n",
    "\n",
    "Wir können sehen, dass die spezifischen Varianzen von 'housing_median_age' mit einem Wert zwischen 0.83 und 0.90 (je nach Methode) sehr hoch ist.\n",
    "Das bedeutet, dass die Faktoren die Varianz dieses Merkmals gemeinsam nicht besonders gut erklären können. Dies spiegelt sich ebenfalls in den\n",
    "sehr geringen Ladungen auf die drei Faktoren wider.\n",
    "Die spezifischen Varianzen bei den restlichen Merkmalen sind jedoch sehr niedrig,\n",
    "was ein gutes Zeichen für die Qualität der Faktorlösung ist.\n",
    "\n",
    "Alle Merkmale, bis auf des eben angesprochenen Merkmals können eindeutig einem Faktor durch jeweils die betraglich\n",
    "größte Ladung zugeordnet werden. Dies ist nicht immer der Fall, sodass eine Faktorrotation für eine leichtere Interpretation\n",
    "sorgen könnte. Hier ist jedoch auch ohne Rotation eine Interpretation gut möglich. Wir werden im nächsten Schritt trotzdem\n",
    "beispielhaft die mit der Varimax-Methode rotierten Faktorladungen ansehen.\n",
    "\n",
    "Bevor wir das tun, werden wir noch die verschiedenen initialen Schätzungen der Kommunalitäten in der (iterierten) PAF-Methode betrachten."
   ]
  },
  {
   "cell_type": "code",
   "execution_count": null,
   "metadata": {
    "pycharm": {
     "name": "#%%\n",
     "is_executing": true
    }
   },
   "outputs": [],
   "source": [
    "paf_comparison_methods = [\n",
    "    (\"Nicht-iterierte PAF\", FactorAnalysis(method=\"paf\", max_iter=1)),\n",
    "    (\"PAF mit max_iter=3\", FactorAnalysis(method=\"paf\", max_iter=3)),\n",
    "    (\"Iterierte PAF\", FactorAnalysis(method=\"paf\", max_iter=50)),\n",
    "]\n",
    "figsize = (10, 6)\n",
    "initial_communality_estimates = {\n",
    "    \"smc\": \"Quadrierte multiple Korrelationen (SMC)\",\n",
    "    \"mac\": \"Maximale absolute Korrelationen (MAC)\",\n",
    "    \"ones\": \"Einsen\"\n",
    "}\n",
    "for init_comm in initial_communality_estimates:\n",
    "    print(f\"Initiale Schätzung: {initial_communality_estimates[init_comm]}\")\n",
    "    plot_loadings_heatmap(X, paf_comparison_methods, figsize, fa_params={\"n_factors\": 3, \"initial_comm\" : init_comm})\n",
    "    #, file=f\"./plots/cal_housing_loadings_with_{init_comm}_initial_communality.png\")\n",
    "    print(f\"Iterierte PAF hat {paf_comparison_methods[2][1].n_iter_} Iterationen benötigt.\")\n",
    "    for method, fa in paf_comparison_methods:\n",
    "        print(f\"RMSE von {method}: {fa.get_rmse():.4f}\")\n",
    "    print(\"\\n\")"
   ]
  },
  {
   "cell_type": "markdown",
   "metadata": {
    "pycharm": {
     "name": "#%% md\n"
    }
   },
   "source": [
    "Wir können sehen, dass nur geringe Unterschiede zwischen den unterschiedlichen initialen Schätzungen\n",
    "in den Ladungen feststellbar sind. Nur in der nicht-iterierten Variante der PAF-Methode können wir einige\n",
    "Unterschiede, vor allem im zweiten Faktor feststellen. Beispielsweise hat der zweite Faktor ein unterschiedliches\n",
    "Vorzeichen, jedoch nur wenn Einsen als Kommunalitätsschätzung benutzt werden.\n",
    "\n",
    "Wir stellen fest, dass die iterierte Variante jedoch eine unterschiedliche Anzahl an Iterationen benötigt, bis\n",
    "das Konvergenzkriterium erreicht wird. Am Langsamsten ist es mm Falle von Einsen (10 Iterationen) und am schnellsten ist es\n",
    "bei den maximalen absoluten Korrelationen (MAC) (nur 3 Iterationen). Ist das Konvergenzkriterium erfüllt, sind die Ladungen jedoch\n",
    "bei allen drei initialen Schätzungen weitestgehend identisch."
   ]
  },
  {
   "cell_type": "markdown",
   "metadata": {
    "pycharm": {
     "name": "#%% md\n"
    }
   },
   "source": [
    "# Faktoranalyse Schritt 4: Faktorrotation und -interpretation\n",
    "Jetzt rotieren wir die Ladungen mit der Varimax-Methode und versuchen, die Faktoren zu interpretieren."
   ]
  },
  {
   "cell_type": "code",
   "execution_count": null,
   "metadata": {
    "pycharm": {
     "name": "#%%\n",
     "is_executing": true
    }
   },
   "outputs": [],
   "source": [
    "methods = [\n",
    "    (\"Iteriete PAF (unrotiert)\", FactorAnalysis(method=\"paf\", rotation=None)),\n",
    "    (\"Iterierte PAF (mit Varimax-Rotation)\", FactorAnalysis(method=\"paf\", rotation=\"varimax\"))\n",
    "]\n",
    "fa_params = {\"n_factors\": 3}\n",
    "plot_loadings_heatmap(X, methods, fa_params=fa_params)#, file=\"./plots/cal_housing_paf_loadings_unrotated_rotated}\")"
   ]
  },
  {
   "cell_type": "markdown",
   "metadata": {
    "pycharm": {
     "name": "#%% md\n"
    }
   },
   "source": [
    "Wie schon vorhin erwähnt, können wir in diesem Datensatz nur einen geringen\n",
    "Unterschied erkennen, da die Faktorextraktion auch ohne Rotation schon ein\n",
    "sehr klares Ergebnis liefert. Man sieht jedoch, dass die geringeren Ladungen\n",
    "besser auf die höheren Ladungen \"verteilt\" wurde. Dies sieht man zum Beispiel\n",
    "in den letzten beiden Merkmalen: Auf der rechten Seite (rotiert) sind die Ladungen\n",
    "der ersten beiden Faktor noch kleiner (nahe bei null), während es bei der unrotierten\n",
    "Variante beim zweiten Faktor immerhin -0.15 und -0.16 sind.\n",
    "\n",
    "### Interpretation\n",
    "\n",
    "Müssten wir die Faktoren interpretieren, könnte man sagen, dass\n",
    "- der erste Faktor die Größe des Bezirks wiederspigelt,\n",
    "- der zweite Faktor den Standort des Bezirks berücksichtigt und\n",
    "- der dritte Faktor den Wohlstand im Bezirk bezeichnet."
   ]
  },
  {
   "cell_type": "markdown",
   "metadata": {
    "pycharm": {
     "name": "#%% md\n"
    }
   },
   "source": [
    "# Faktoranalyse Schritt 5: Die Faktorwerte bestimmen\n",
    "\n",
    "Als letzten Schritt können wir noch einen Blick auf die geschätzten Faktorwerte\n",
    "werfen. Wie hätte als der Bezirk $i$ die drei oben beschriebenen Faktoren bewertet?\n",
    "\n",
    "Da die Daten standardisiert wurden, sind die Faktorwerte auch (fast) standardisiert.\n",
    "Der Mittelwert liegt bei Null, jedoch ist die Varianz der Faktorwerte nicht exakt 1.\n",
    "Daher geben die Faktorwerte an, wie weit weg vom Mittelwert ein bestimmter Faktorwert\n",
    "$f_{ij}$ des $i$-ten Bezirks für Faktor $j$ liegt.\n",
    "Die hier benutzte Methode zur Schätzung der Faktorwerte ist *Thompon's Regressionsmethode*\n",
    "welche eine multivariate lineare Regression benutzt, um die Faktorwerte\n",
    "zu schätzen."
   ]
  },
  {
   "cell_type": "code",
   "execution_count": null,
   "metadata": {
    "pycharm": {
     "name": "#%%\n",
     "is_executing": true
    }
   },
   "outputs": [],
   "source": [
    "scores = FactorAnalysis(n_factors=3).fit_transform(X)\n",
    "scores = pd.DataFrame(scores, columns=[\"Größe\", \"Standort\", \"Wohlstand\"])\n",
    "print(scores.shape)\n",
    "scores.head()"
   ]
  },
  {
   "cell_type": "markdown",
   "metadata": {
    "pycharm": {
     "name": "#%% md\n"
    }
   },
   "source": [
    "Hätte also der erste Bezirk in diesem Datensatz nicht die 8 Merkmale bewertet, sondern stattdessen\n",
    "je einen Wert für die drei Faktoren angegeben, so läge der erste Faktorwert etwas mehr als eine\n",
    "Standardabweichung unter dem Mittelwert. Die anderen beiden Faktorwerte lägen über dem Mittelwert,\n",
    "wobei der dritte Faktorwert mit 2.22 deutlich über dem Mittelwert liegt.\n",
    "\n",
    "Dies sind jedoch keine exakten Standardabweichungen, da die Faktorwerte nicht exakt eine Varianz\n",
    "von 1 aufweisen."
   ]
  },
  {
   "cell_type": "code",
   "execution_count": null,
   "metadata": {
    "pycharm": {
     "name": "#%%\n",
     "is_executing": true
    }
   },
   "outputs": [],
   "source": [
    "scores.mean(axis=0)"
   ]
  },
  {
   "cell_type": "code",
   "execution_count": null,
   "metadata": {
    "pycharm": {
     "name": "#%%\n",
     "is_executing": true
    }
   },
   "outputs": [],
   "source": [
    "scores.std(axis=0) ** 2"
   ]
  },
  {
   "cell_type": "markdown",
   "source": [
    "Benutzt man jedoch die Hauptkomponentenmethode, so weisen die Faktorwerte eine\n",
    "Standardabweichung von Eins auf."
   ],
   "metadata": {
    "collapsed": false,
    "pycharm": {
     "name": "#%% md\n"
    }
   }
  },
  {
   "cell_type": "code",
   "execution_count": null,
   "outputs": [],
   "source": [
    "scores = FactorAnalysis(method=\"pc\", n_factors=3).fit_transform(X)\n",
    "scores.std(axis=0) ** 2"
   ],
   "metadata": {
    "collapsed": false,
    "pycharm": {
     "name": "#%%\n",
     "is_executing": true
    }
   }
  }
 ],
 "metadata": {
  "celltoolbar": "Tags",
  "kernelspec": {
   "display_name": "Python 3 (ipykernel)",
   "language": "python",
   "name": "python3"
  },
  "language_info": {
   "codemirror_mode": {
    "name": "ipython",
    "version": 3
   },
   "file_extension": ".py",
   "mimetype": "text/x-python",
   "name": "python",
   "nbconvert_exporter": "python",
   "pygments_lexer": "ipython3",
   "version": "3.9.9"
  }
 },
 "nbformat": 4,
 "nbformat_minor": 1
}
